{
 "cells": [
  {
   "cell_type": "markdown",
   "id": "84fab0e8",
   "metadata": {},
   "source": [
    "**Chargement du csv**"
   ]
  },
  {
   "cell_type": "code",
   "execution_count": 1,
   "id": "00fd05aa",
   "metadata": {},
   "outputs": [],
   "source": [
    "import numpy as np\n",
    "import pandas as pd"
   ]
  },
  {
   "cell_type": "code",
   "execution_count": 2,
   "id": "d7c98ac7",
   "metadata": {},
   "outputs": [],
   "source": [
    "geo=pd.read_csv(\"correspondance-code-insee-code-postal.csv\",sep=';',usecols=range(11))\n",
    "geo=geo.set_index('Code INSEE')"
   ]
  },
  {
   "cell_type": "code",
   "execution_count": 3,
   "id": "4691ef88",
   "metadata": {},
   "outputs": [
    {
     "name": "stdout",
     "output_type": "stream",
     "text": [
      "<class 'pandas.core.frame.DataFrame'>\n",
      "Index: 36742 entries, 31080 to 50224\n",
      "Data columns (total 12 columns):\n",
      " #   Column            Non-Null Count  Dtype  \n",
      "---  ------            --------------  -----  \n",
      " 0   Code Postal       36742 non-null  object \n",
      " 1   Commune           36742 non-null  object \n",
      " 2   Département       36742 non-null  object \n",
      " 3   Région            36742 non-null  object \n",
      " 4   Statut            36742 non-null  object \n",
      " 5   Altitude Moyenne  36742 non-null  float64\n",
      " 6   Superficie        36742 non-null  float64\n",
      " 7   Population        36742 non-null  float64\n",
      " 8   geo_point_2d      36742 non-null  object \n",
      " 9   geo_shape         36742 non-null  object \n",
      " 10  latitude          36742 non-null  float64\n",
      " 11  longitude         36742 non-null  float64\n",
      "dtypes: float64(5), object(7)\n",
      "memory usage: 3.6+ MB\n"
     ]
    }
   ],
   "source": [
    "geo['latitude']=geo['geo_point_2d'].apply(lambda x : x.split(',')[0]).astype(float)\n",
    "geo['longitude']=geo['geo_point_2d'].apply(lambda x : x.split(',')[1]).astype(float)\n",
    "geo.info()"
   ]
  },
  {
   "cell_type": "markdown",
   "id": "c010d029",
   "metadata": {},
   "source": [
    "## Projet maison n° 1\n",
    "\n",
    "- Ajoutez une colonne 'CP Ville' avec le Code postal + un espace + et le nom de la Ville.\n",
    "- Ecrivez une fonction qui détermine la commune la plus proche d'un point à partir de sa latitude et sa longitude.\n",
    "- Ajoutez une fonction de conversion pour pouvoir utiliser la première fonction avec un GPS (degrés, minutes, secondes)."
   ]
  },
  {
   "cell_type": "code",
   "execution_count": 4,
   "id": "2819bc53",
   "metadata": {},
   "outputs": [
    {
     "data": {
      "text/html": [
       "<div>\n",
       "<style scoped>\n",
       "    .dataframe tbody tr th:only-of-type {\n",
       "        vertical-align: middle;\n",
       "    }\n",
       "\n",
       "    .dataframe tbody tr th {\n",
       "        vertical-align: top;\n",
       "    }\n",
       "\n",
       "    .dataframe thead th {\n",
       "        text-align: right;\n",
       "    }\n",
       "</style>\n",
       "<table border=\"1\" class=\"dataframe\">\n",
       "  <thead>\n",
       "    <tr style=\"text-align: right;\">\n",
       "      <th></th>\n",
       "      <th>Code Postal</th>\n",
       "      <th>Commune</th>\n",
       "      <th>Département</th>\n",
       "      <th>Région</th>\n",
       "      <th>Statut</th>\n",
       "      <th>Altitude Moyenne</th>\n",
       "      <th>Superficie</th>\n",
       "      <th>Population</th>\n",
       "      <th>geo_point_2d</th>\n",
       "      <th>geo_shape</th>\n",
       "      <th>latitude</th>\n",
       "      <th>longitude</th>\n",
       "      <th>CP Ville</th>\n",
       "    </tr>\n",
       "    <tr>\n",
       "      <th>Code INSEE</th>\n",
       "      <th></th>\n",
       "      <th></th>\n",
       "      <th></th>\n",
       "      <th></th>\n",
       "      <th></th>\n",
       "      <th></th>\n",
       "      <th></th>\n",
       "      <th></th>\n",
       "      <th></th>\n",
       "      <th></th>\n",
       "      <th></th>\n",
       "      <th></th>\n",
       "      <th></th>\n",
       "    </tr>\n",
       "  </thead>\n",
       "  <tbody>\n",
       "    <tr>\n",
       "      <th>31080</th>\n",
       "      <td>31350</td>\n",
       "      <td>BOULOGNE-SUR-GESSE</td>\n",
       "      <td>HAUTE-GARONNE</td>\n",
       "      <td>MIDI-PYRENEES</td>\n",
       "      <td>Chef-lieu canton</td>\n",
       "      <td>301.0</td>\n",
       "      <td>2470.0</td>\n",
       "      <td>1.6</td>\n",
       "      <td>43.2904403081, 0.650641474176</td>\n",
       "      <td>{\"type\": \"Polygon\", \"coordinates\": [[[0.671852...</td>\n",
       "      <td>43.290440</td>\n",
       "      <td>0.650641</td>\n",
       "      <td>31350 BOULOGNE-SUR-GESSE</td>\n",
       "    </tr>\n",
       "    <tr>\n",
       "      <th>11143</th>\n",
       "      <td>11510</td>\n",
       "      <td>FEUILLA</td>\n",
       "      <td>AUDE</td>\n",
       "      <td>LANGUEDOC-ROUSSILLON</td>\n",
       "      <td>Commune simple</td>\n",
       "      <td>314.0</td>\n",
       "      <td>2426.0</td>\n",
       "      <td>0.1</td>\n",
       "      <td>42.9291375888, 2.90138923544</td>\n",
       "      <td>{\"type\": \"Polygon\", \"coordinates\": [[[2.906996...</td>\n",
       "      <td>42.929138</td>\n",
       "      <td>2.901389</td>\n",
       "      <td>11510 FEUILLA</td>\n",
       "    </tr>\n",
       "    <tr>\n",
       "      <th>43028</th>\n",
       "      <td>43200</td>\n",
       "      <td>BESSAMOREL</td>\n",
       "      <td>HAUTE-LOIRE</td>\n",
       "      <td>AUVERGNE</td>\n",
       "      <td>Commune simple</td>\n",
       "      <td>888.0</td>\n",
       "      <td>743.0</td>\n",
       "      <td>0.4</td>\n",
       "      <td>45.1306448726, 4.07952494849</td>\n",
       "      <td>{\"type\": \"Polygon\", \"coordinates\": [[[4.091674...</td>\n",
       "      <td>45.130645</td>\n",
       "      <td>4.079525</td>\n",
       "      <td>43200 BESSAMOREL</td>\n",
       "    </tr>\n",
       "    <tr>\n",
       "      <th>78506</th>\n",
       "      <td>78660</td>\n",
       "      <td>PRUNAY-EN-YVELINES</td>\n",
       "      <td>YVELINES</td>\n",
       "      <td>ILE-DE-FRANCE</td>\n",
       "      <td>Commune simple</td>\n",
       "      <td>155.0</td>\n",
       "      <td>2717.0</td>\n",
       "      <td>0.8</td>\n",
       "      <td>48.5267627187, 1.80513972814</td>\n",
       "      <td>{\"type\": \"Polygon\", \"coordinates\": [[[1.829610...</td>\n",
       "      <td>48.526763</td>\n",
       "      <td>1.805140</td>\n",
       "      <td>78660 PRUNAY-EN-YVELINES</td>\n",
       "    </tr>\n",
       "    <tr>\n",
       "      <th>84081</th>\n",
       "      <td>84310</td>\n",
       "      <td>MORIERES-LES-AVIGNON</td>\n",
       "      <td>VAUCLUSE</td>\n",
       "      <td>PROVENCE-ALPES-COTE D'AZUR</td>\n",
       "      <td>Commune simple</td>\n",
       "      <td>49.0</td>\n",
       "      <td>1042.0</td>\n",
       "      <td>7.6</td>\n",
       "      <td>43.9337788848, 4.90875878315</td>\n",
       "      <td>{\"type\": \"Polygon\", \"coordinates\": [[[4.927176...</td>\n",
       "      <td>43.933779</td>\n",
       "      <td>4.908759</td>\n",
       "      <td>84310 MORIERES-LES-AVIGNON</td>\n",
       "    </tr>\n",
       "    <tr>\n",
       "      <th>...</th>\n",
       "      <td>...</td>\n",
       "      <td>...</td>\n",
       "      <td>...</td>\n",
       "      <td>...</td>\n",
       "      <td>...</td>\n",
       "      <td>...</td>\n",
       "      <td>...</td>\n",
       "      <td>...</td>\n",
       "      <td>...</td>\n",
       "      <td>...</td>\n",
       "      <td>...</td>\n",
       "      <td>...</td>\n",
       "      <td>...</td>\n",
       "    </tr>\n",
       "    <tr>\n",
       "      <th>74066</th>\n",
       "      <td>74270</td>\n",
       "      <td>CHAVANNAZ</td>\n",
       "      <td>HAUTE-SAVOIE</td>\n",
       "      <td>RHONE-ALPES</td>\n",
       "      <td>Commune simple</td>\n",
       "      <td>564.0</td>\n",
       "      <td>321.0</td>\n",
       "      <td>0.2</td>\n",
       "      <td>46.0500384099, 6.01652644319</td>\n",
       "      <td>{\"type\": \"Polygon\", \"coordinates\": [[[6.026228...</td>\n",
       "      <td>46.050038</td>\n",
       "      <td>6.016526</td>\n",
       "      <td>74270 CHAVANNAZ</td>\n",
       "    </tr>\n",
       "    <tr>\n",
       "      <th>67315</th>\n",
       "      <td>67630</td>\n",
       "      <td>NEEWILLER-PRES-LAUTERBOURG</td>\n",
       "      <td>BAS-RHIN</td>\n",
       "      <td>ALSACE</td>\n",
       "      <td>Commune simple</td>\n",
       "      <td>157.0</td>\n",
       "      <td>725.0</td>\n",
       "      <td>0.7</td>\n",
       "      <td>48.9516989257, 8.11931601006</td>\n",
       "      <td>{\"type\": \"Polygon\", \"coordinates\": [[[8.106826...</td>\n",
       "      <td>48.951699</td>\n",
       "      <td>8.119316</td>\n",
       "      <td>67630 NEEWILLER-PRES-LAUTERBOURG</td>\n",
       "    </tr>\n",
       "    <tr>\n",
       "      <th>07122</th>\n",
       "      <td>07200</td>\n",
       "      <td>LACHAPELLE-SOUS-AUBENAS</td>\n",
       "      <td>ARDECHE</td>\n",
       "      <td>RHONE-ALPES</td>\n",
       "      <td>Commune simple</td>\n",
       "      <td>257.0</td>\n",
       "      <td>1018.0</td>\n",
       "      <td>1.5</td>\n",
       "      <td>44.5622616562, 4.35906947518</td>\n",
       "      <td>{\"type\": \"Polygon\", \"coordinates\": [[[4.356584...</td>\n",
       "      <td>44.562262</td>\n",
       "      <td>4.359069</td>\n",
       "      <td>07200 LACHAPELLE-SOUS-AUBENAS</td>\n",
       "    </tr>\n",
       "    <tr>\n",
       "      <th>01026</th>\n",
       "      <td>01380</td>\n",
       "      <td>BAGE-LE-CHATEL</td>\n",
       "      <td>AIN</td>\n",
       "      <td>RHONE-ALPES</td>\n",
       "      <td>Chef-lieu canton</td>\n",
       "      <td>202.0</td>\n",
       "      <td>86.0</td>\n",
       "      <td>0.8</td>\n",
       "      <td>46.3077069231, 4.92862084189</td>\n",
       "      <td>{\"type\": \"Polygon\", \"coordinates\": [[[4.926593...</td>\n",
       "      <td>46.307707</td>\n",
       "      <td>4.928621</td>\n",
       "      <td>01380 BAGE-LE-CHATEL</td>\n",
       "    </tr>\n",
       "    <tr>\n",
       "      <th>50224</th>\n",
       "      <td>50160</td>\n",
       "      <td>GUILBERVILLE</td>\n",
       "      <td>MANCHE</td>\n",
       "      <td>BASSE-NORMANDIE</td>\n",
       "      <td>Commune simple</td>\n",
       "      <td>165.0</td>\n",
       "      <td>2224.0</td>\n",
       "      <td>1.0</td>\n",
       "      <td>48.9866701737, -0.949588175705</td>\n",
       "      <td>{\"type\": \"Polygon\", \"coordinates\": [[[-0.99753...</td>\n",
       "      <td>48.986670</td>\n",
       "      <td>-0.949588</td>\n",
       "      <td>50160 GUILBERVILLE</td>\n",
       "    </tr>\n",
       "  </tbody>\n",
       "</table>\n",
       "<p>36742 rows × 13 columns</p>\n",
       "</div>"
      ],
      "text/plain": [
       "           Code Postal                     Commune    Département  \\\n",
       "Code INSEE                                                          \n",
       "31080            31350          BOULOGNE-SUR-GESSE  HAUTE-GARONNE   \n",
       "11143            11510                     FEUILLA           AUDE   \n",
       "43028            43200                  BESSAMOREL    HAUTE-LOIRE   \n",
       "78506            78660          PRUNAY-EN-YVELINES       YVELINES   \n",
       "84081            84310        MORIERES-LES-AVIGNON       VAUCLUSE   \n",
       "...                ...                         ...            ...   \n",
       "74066            74270                   CHAVANNAZ   HAUTE-SAVOIE   \n",
       "67315            67630  NEEWILLER-PRES-LAUTERBOURG       BAS-RHIN   \n",
       "07122            07200     LACHAPELLE-SOUS-AUBENAS        ARDECHE   \n",
       "01026            01380              BAGE-LE-CHATEL            AIN   \n",
       "50224            50160                GUILBERVILLE         MANCHE   \n",
       "\n",
       "                                Région            Statut  Altitude Moyenne  \\\n",
       "Code INSEE                                                                   \n",
       "31080                    MIDI-PYRENEES  Chef-lieu canton             301.0   \n",
       "11143             LANGUEDOC-ROUSSILLON    Commune simple             314.0   \n",
       "43028                         AUVERGNE    Commune simple             888.0   \n",
       "78506                    ILE-DE-FRANCE    Commune simple             155.0   \n",
       "84081       PROVENCE-ALPES-COTE D'AZUR    Commune simple              49.0   \n",
       "...                                ...               ...               ...   \n",
       "74066                      RHONE-ALPES    Commune simple             564.0   \n",
       "67315                           ALSACE    Commune simple             157.0   \n",
       "07122                      RHONE-ALPES    Commune simple             257.0   \n",
       "01026                      RHONE-ALPES  Chef-lieu canton             202.0   \n",
       "50224                  BASSE-NORMANDIE    Commune simple             165.0   \n",
       "\n",
       "            Superficie  Population                    geo_point_2d  \\\n",
       "Code INSEE                                                           \n",
       "31080           2470.0         1.6   43.2904403081, 0.650641474176   \n",
       "11143           2426.0         0.1    42.9291375888, 2.90138923544   \n",
       "43028            743.0         0.4    45.1306448726, 4.07952494849   \n",
       "78506           2717.0         0.8    48.5267627187, 1.80513972814   \n",
       "84081           1042.0         7.6    43.9337788848, 4.90875878315   \n",
       "...                ...         ...                             ...   \n",
       "74066            321.0         0.2    46.0500384099, 6.01652644319   \n",
       "67315            725.0         0.7    48.9516989257, 8.11931601006   \n",
       "07122           1018.0         1.5    44.5622616562, 4.35906947518   \n",
       "01026             86.0         0.8    46.3077069231, 4.92862084189   \n",
       "50224           2224.0         1.0  48.9866701737, -0.949588175705   \n",
       "\n",
       "                                                    geo_shape   latitude  \\\n",
       "Code INSEE                                                                 \n",
       "31080       {\"type\": \"Polygon\", \"coordinates\": [[[0.671852...  43.290440   \n",
       "11143       {\"type\": \"Polygon\", \"coordinates\": [[[2.906996...  42.929138   \n",
       "43028       {\"type\": \"Polygon\", \"coordinates\": [[[4.091674...  45.130645   \n",
       "78506       {\"type\": \"Polygon\", \"coordinates\": [[[1.829610...  48.526763   \n",
       "84081       {\"type\": \"Polygon\", \"coordinates\": [[[4.927176...  43.933779   \n",
       "...                                                       ...        ...   \n",
       "74066       {\"type\": \"Polygon\", \"coordinates\": [[[6.026228...  46.050038   \n",
       "67315       {\"type\": \"Polygon\", \"coordinates\": [[[8.106826...  48.951699   \n",
       "07122       {\"type\": \"Polygon\", \"coordinates\": [[[4.356584...  44.562262   \n",
       "01026       {\"type\": \"Polygon\", \"coordinates\": [[[4.926593...  46.307707   \n",
       "50224       {\"type\": \"Polygon\", \"coordinates\": [[[-0.99753...  48.986670   \n",
       "\n",
       "            longitude                          CP Ville  \n",
       "Code INSEE                                               \n",
       "31080        0.650641          31350 BOULOGNE-SUR-GESSE  \n",
       "11143        2.901389                     11510 FEUILLA  \n",
       "43028        4.079525                  43200 BESSAMOREL  \n",
       "78506        1.805140          78660 PRUNAY-EN-YVELINES  \n",
       "84081        4.908759        84310 MORIERES-LES-AVIGNON  \n",
       "...               ...                               ...  \n",
       "74066        6.016526                   74270 CHAVANNAZ  \n",
       "67315        8.119316  67630 NEEWILLER-PRES-LAUTERBOURG  \n",
       "07122        4.359069     07200 LACHAPELLE-SOUS-AUBENAS  \n",
       "01026        4.928621              01380 BAGE-LE-CHATEL  \n",
       "50224       -0.949588                50160 GUILBERVILLE  \n",
       "\n",
       "[36742 rows x 13 columns]"
      ]
     },
     "execution_count": 4,
     "metadata": {},
     "output_type": "execute_result"
    }
   ],
   "source": [
    "geo['CP Ville']=geo['Code Postal']+' '+geo['Commune']\n",
    "geo"
   ]
  },
  {
   "cell_type": "markdown",
   "id": "4ffb568d",
   "metadata": {},
   "source": [
    "Formule de la distance entre deux points, ϕ étant les valeurs de latitude et λ les valeurs de longitude :   \n",
    "Angle en radians : A = arccos (sin ϕA sin ϕB + cos ϕA cos ϕB cos dλ) avec dλ = λB – λA  \n",
    "Distance en m : D = A * Rterre = A * 6 378 137"
   ]
  },
  {
   "cell_type": "code",
   "execution_count": 5,
   "id": "f4694e8b",
   "metadata": {},
   "outputs": [
    {
     "data": {
      "text/plain": [
       "'01380 BAGE-LE-CHATEL'"
      ]
     },
     "execution_count": 5,
     "metadata": {},
     "output_type": "execute_result"
    }
   ],
   "source": [
    "# fonction recherche de ville\n",
    "def ville(lat, long):\n",
    "    \n",
    "    lat_rad=np.radians(lat)\n",
    "    long_rad=np.radians(long)\n",
    "    \n",
    "    s_lat_rad=geo['latitude'].apply(np.radians)\n",
    "    s_long_rad=geo['longitude'].apply(np.radians)\n",
    "    \n",
    "    distances_angulaires = (s_lat_rad.apply(np.sin)*np.sin(lat_rad)+s_lat_rad.apply(np.cos)*np.cos(lat_rad)*(-(s_long_rad-long_rad)).apply(np.cos)).apply(np.arccos)\n",
    "    distances_km =distances_angulaires*6378.137\n",
    "    \n",
    "    return geo.loc[distances_km.idxmin(),'CP Ville']\n",
    "\n",
    "\n",
    "ville(46.3,4.93)"
   ]
  },
  {
   "cell_type": "code",
   "execution_count": 6,
   "id": "4a78534b",
   "metadata": {},
   "outputs": [
    {
     "data": {
      "text/plain": [
       "'68480 KIFFIS'"
      ]
     },
     "execution_count": 6,
     "metadata": {},
     "output_type": "execute_result"
    }
   ],
   "source": [
    "# on applique la fonction à une coordonnée tirée au hasard\n",
    "# init du random\n",
    "np.random.seed()\n",
    "\n",
    "a, b = 41.5, 51.1  # latitude min et max de la France métropolitaine\n",
    "lat = (b - a) * np.random.random() + a\n",
    "a, b = -5.1, 9.5  # longitude min et max de la France métropolitaine\n",
    "long = (b - a) * np.random.random() + a\n",
    "\n",
    "ville(lat, long)"
   ]
  },
  {
   "cell_type": "code",
   "execution_count": 7,
   "id": "8fcbe81f",
   "metadata": {},
   "outputs": [
    {
     "data": {
      "text/plain": [
       "10.25611111111111"
      ]
     },
     "execution_count": 7,
     "metadata": {},
     "output_type": "execute_result"
    }
   ],
   "source": [
    "# conversion degrés, minutes, secondes => décimal\n",
    "def dms2dec(deg, mn, sec):\n",
    "    val_dd=deg+mn/60+sec/3600\n",
    "    return val_dd\n",
    "\n",
    "dms2dec(10,15,22)"
   ]
  },
  {
   "cell_type": "code",
   "execution_count": 8,
   "id": "7178a096",
   "metadata": {},
   "outputs": [
    {
     "data": {
      "text/plain": [
       "'91120 PALAISEAU'"
      ]
     },
     "execution_count": 8,
     "metadata": {},
     "output_type": "execute_result"
    }
   ],
   "source": [
    "# à partir de coordonnées GPS précises\n",
    "ville(dms2dec(48, 42, 52), dms2dec(2, 14, 45))"
   ]
  },
  {
   "cell_type": "markdown",
   "id": "8980c330",
   "metadata": {},
   "source": [
    "## Projet maison n° 2\n",
    "\n",
    "La colonne \"geo_shape\" comporte des chaines de catactères au format JSON. Elles représentent les formes géométriques des communes qui sont soit des polygones soit composées de plusieurs polygones.\n",
    "\n",
    "- Utiliser la librairie Python json pour parser la colonne \"geo_shape\".\n",
    "- Donner le décompte des valeurs accédées avec la clé \"type\".\n",
    "- Donner le décompte des longueurs des listes accédées avec la clé \"coordinates\".\n",
    "- Quelle commune est la plus complexe géométriquement ?\n",
    "- Quelle commune est la seconde la plus complexe géométriquement ?\n",
    "- Quelles sont les villes qui sont de type \"Polygon\" mais dont la longueur des listes accédées avec la clé \"coordinates\" vaut 2 ?\n",
    "- Pour ces villes vérifier que le premier polygone contient bien le second (enclave). *Nota bene* : installer la librairie shapely, utiliser la classe Polygon de shapely.geometry. Sur Windows shapely peut nécessiter d'installer la dll \"geos_c.dll\" dans le répertoire \"Library/bin\" de votre environnement Python."
   ]
  },
  {
   "cell_type": "code",
   "execution_count": 9,
   "id": "cb58c9d6",
   "metadata": {},
   "outputs": [
    {
     "name": "stdout",
     "output_type": "stream",
     "text": [
      "{\"type\": \"Polygon\", \"coordinates\": [[[4.92627342692396, 46.1200517234555], [4.92199538031264, 46.12069170563269], [4.921996260482057, 46.12663667307488], [4.90936269187648, 46.129164756530656], [4.916016986429157, 46.14461766984426], [4.903080786126749, 46.157977074275074], [4.904571300671208, 46.16096059498421], [4.910603091203733, 46.180432597608316], [4.914119126867876, 46.18271538441311], [4.932895432675545, 46.18304616431434], [4.938729478686701, 46.17383114520867], [4.933038591703602, 46.16429901579509], [4.958286230120842, 46.153246666893935], [4.943330383388636, 46.145964148557894], [4.939154593056283, 46.12938048470421], [4.931056072485923, 46.12087123131487], [4.92627342692396, 46.1200517234555]]]}\n",
      "<class 'str'>\n",
      "{'type': 'Polygon', 'coordinates': [[[4.92627342692396, 46.1200517234555], [4.92199538031264, 46.12069170563269], [4.921996260482057, 46.12663667307488], [4.90936269187648, 46.129164756530656], [4.916016986429157, 46.14461766984426], [4.903080786126749, 46.157977074275074], [4.904571300671208, 46.16096059498421], [4.910603091203733, 46.180432597608316], [4.914119126867876, 46.18271538441311], [4.932895432675545, 46.18304616431434], [4.938729478686701, 46.17383114520867], [4.933038591703602, 46.16429901579509], [4.958286230120842, 46.153246666893935], [4.943330383388636, 46.145964148557894], [4.939154593056283, 46.12938048470421], [4.931056072485923, 46.12087123131487], [4.92627342692396, 46.1200517234555]]]}\n",
      "<class 'dict'>\n"
     ]
    }
   ],
   "source": [
    "import json\n",
    "y = geo.loc[\"01001\", \"geo_shape\"]\n",
    "print(y)\n",
    "print(type(y))\n",
    "d = json.loads(y)\n",
    "print(d)\n",
    "print(type(d))"
   ]
  },
  {
   "cell_type": "code",
   "execution_count": 10,
   "id": "bf9f84f1",
   "metadata": {},
   "outputs": [
    {
     "data": {
      "text/plain": [
       "'Polygon'"
      ]
     },
     "execution_count": 10,
     "metadata": {},
     "output_type": "execute_result"
    }
   ],
   "source": [
    "d['type']"
   ]
  },
  {
   "cell_type": "code",
   "execution_count": 11,
   "id": "2937d75d",
   "metadata": {},
   "outputs": [
    {
     "data": {
      "text/plain": [
       "[4.92627342692396, 46.1200517234555]"
      ]
     },
     "execution_count": 11,
     "metadata": {},
     "output_type": "execute_result"
    }
   ],
   "source": [
    "d['coordinates'][0][0]"
   ]
  },
  {
   "cell_type": "code",
   "execution_count": 12,
   "id": "be54a03b",
   "metadata": {},
   "outputs": [
    {
     "name": "stdout",
     "output_type": "stream",
     "text": [
      "[[[4.92627342692396, 46.1200517234555], [4.92199538031264, 46.12069170563269], [4.921996260482057, 46.12663667307488], [4.90936269187648, 46.129164756530656], [4.916016986429157, 46.14461766984426], [4.903080786126749, 46.157977074275074], [4.904571300671208, 46.16096059498421], [4.910603091203733, 46.180432597608316], [4.914119126867876, 46.18271538441311], [4.932895432675545, 46.18304616431434], [4.938729478686701, 46.17383114520867], [4.933038591703602, 46.16429901579509], [4.958286230120842, 46.153246666893935], [4.943330383388636, 46.145964148557894], [4.939154593056283, 46.12938048470421], [4.931056072485923, 46.12087123131487], [4.92627342692396, 46.1200517234555]]]\n",
      "<class 'list'>\n"
     ]
    }
   ],
   "source": [
    "print(d['coordinates'])\n",
    "print(type(d['coordinates']))"
   ]
  },
  {
   "cell_type": "markdown",
   "id": "26470d9b",
   "metadata": {},
   "source": [
    "**Décompte par type de shape**"
   ]
  },
  {
   "cell_type": "code",
   "execution_count": 13,
   "id": "af499db6",
   "metadata": {},
   "outputs": [],
   "source": [
    "geo['geo_shape']=geo['geo_shape'].apply(lambda x : json.loads(x))"
   ]
  },
  {
   "cell_type": "code",
   "execution_count": 14,
   "id": "afff27a0",
   "metadata": {
    "scrolled": true
   },
   "outputs": [
    {
     "data": {
      "text/plain": [
       "Polygon         36670\n",
       "MultiPolygon       72\n",
       "Name: geo_shape, dtype: int64"
      ]
     },
     "execution_count": 14,
     "metadata": {},
     "output_type": "execute_result"
    }
   ],
   "source": [
    "geo['geo_shape'].apply(lambda x: x[\"type\"]).value_counts()"
   ]
  },
  {
   "cell_type": "markdown",
   "id": "94f47644",
   "metadata": {},
   "source": [
    "**Décompte par taille de la liste de coordonnées**"
   ]
  },
  {
   "cell_type": "code",
   "execution_count": 15,
   "id": "8c5a8fba",
   "metadata": {},
   "outputs": [],
   "source": [
    "serie_triee_nb_polyg_par_ville=geo['geo_shape'].apply(lambda x: len(x[\"coordinates\"])).sort_values(ascending=False)"
   ]
  },
  {
   "cell_type": "code",
   "execution_count": 16,
   "id": "4f3c2c2d",
   "metadata": {},
   "outputs": [],
   "source": [
    "max_nb_polyg=serie_triee_nb_polyg_par_ville.iloc[0]\n",
    "max2_nb_polyg=serie_triee_nb_polyg_par_ville.iloc[1]"
   ]
  },
  {
   "cell_type": "code",
   "execution_count": 17,
   "id": "1d3cc12d",
   "metadata": {
    "scrolled": true
   },
   "outputs": [
    {
     "data": {
      "text/plain": [
       "1    36660\n",
       "2       80\n",
       "3        1\n",
       "4        1\n",
       "Name: geo_shape, dtype: int64"
      ]
     },
     "execution_count": 17,
     "metadata": {},
     "output_type": "execute_result"
    }
   ],
   "source": [
    "geo['geo_shape'].apply(lambda x: len(x[\"coordinates\"])).value_counts()"
   ]
  },
  {
   "cell_type": "markdown",
   "id": "bd8edab9",
   "metadata": {},
   "source": [
    "**Ville la plus complexe géométriquement : critère sur le nombre de polygones**  "
   ]
  },
  {
   "cell_type": "code",
   "execution_count": 18,
   "id": "646eaa40",
   "metadata": {},
   "outputs": [
    {
     "data": {
      "text/html": [
       "<div>\n",
       "<style scoped>\n",
       "    .dataframe tbody tr th:only-of-type {\n",
       "        vertical-align: middle;\n",
       "    }\n",
       "\n",
       "    .dataframe tbody tr th {\n",
       "        vertical-align: top;\n",
       "    }\n",
       "\n",
       "    .dataframe thead th {\n",
       "        text-align: right;\n",
       "    }\n",
       "</style>\n",
       "<table border=\"1\" class=\"dataframe\">\n",
       "  <thead>\n",
       "    <tr style=\"text-align: right;\">\n",
       "      <th></th>\n",
       "      <th>Code Postal</th>\n",
       "      <th>Commune</th>\n",
       "      <th>Département</th>\n",
       "      <th>Région</th>\n",
       "      <th>Statut</th>\n",
       "      <th>Altitude Moyenne</th>\n",
       "      <th>Superficie</th>\n",
       "      <th>Population</th>\n",
       "      <th>geo_point_2d</th>\n",
       "      <th>geo_shape</th>\n",
       "      <th>latitude</th>\n",
       "      <th>longitude</th>\n",
       "      <th>CP Ville</th>\n",
       "    </tr>\n",
       "    <tr>\n",
       "      <th>Code INSEE</th>\n",
       "      <th></th>\n",
       "      <th></th>\n",
       "      <th></th>\n",
       "      <th></th>\n",
       "      <th></th>\n",
       "      <th></th>\n",
       "      <th></th>\n",
       "      <th></th>\n",
       "      <th></th>\n",
       "      <th></th>\n",
       "      <th></th>\n",
       "      <th></th>\n",
       "      <th></th>\n",
       "    </tr>\n",
       "  </thead>\n",
       "  <tbody>\n",
       "    <tr>\n",
       "      <th>83069</th>\n",
       "      <td>83400</td>\n",
       "      <td>HYERES</td>\n",
       "      <td>VAR</td>\n",
       "      <td>PROVENCE-ALPES-COTE D'AZUR</td>\n",
       "      <td>Chef-lieu canton</td>\n",
       "      <td>60.0</td>\n",
       "      <td>13356.0</td>\n",
       "      <td>54.7</td>\n",
       "      <td>43.1018713534, 6.18898508469</td>\n",
       "      <td>{'type': 'MultiPolygon', 'coordinates': [[[[6....</td>\n",
       "      <td>43.101871</td>\n",
       "      <td>6.188985</td>\n",
       "      <td>83400 HYERES</td>\n",
       "    </tr>\n",
       "  </tbody>\n",
       "</table>\n",
       "</div>"
      ],
      "text/plain": [
       "           Code Postal Commune Département                      Région  \\\n",
       "Code INSEE                                                               \n",
       "83069            83400  HYERES         VAR  PROVENCE-ALPES-COTE D'AZUR   \n",
       "\n",
       "                      Statut  Altitude Moyenne  Superficie  Population  \\\n",
       "Code INSEE                                                               \n",
       "83069       Chef-lieu canton              60.0     13356.0        54.7   \n",
       "\n",
       "                            geo_point_2d  \\\n",
       "Code INSEE                                 \n",
       "83069       43.1018713534, 6.18898508469   \n",
       "\n",
       "                                                    geo_shape   latitude  \\\n",
       "Code INSEE                                                                 \n",
       "83069       {'type': 'MultiPolygon', 'coordinates': [[[[6....  43.101871   \n",
       "\n",
       "            longitude      CP Ville  \n",
       "Code INSEE                           \n",
       "83069        6.188985  83400 HYERES  "
      ]
     },
     "execution_count": 18,
     "metadata": {},
     "output_type": "execute_result"
    }
   ],
   "source": [
    "geo.loc[geo['geo_shape'].apply(lambda x: len(x[\"coordinates\"]))==max_nb_polyg]"
   ]
  },
  {
   "cell_type": "code",
   "execution_count": 19,
   "id": "a0a3c24c",
   "metadata": {},
   "outputs": [
    {
     "data": {
      "text/html": [
       "<div>\n",
       "<style scoped>\n",
       "    .dataframe tbody tr th:only-of-type {\n",
       "        vertical-align: middle;\n",
       "    }\n",
       "\n",
       "    .dataframe tbody tr th {\n",
       "        vertical-align: top;\n",
       "    }\n",
       "\n",
       "    .dataframe thead th {\n",
       "        text-align: right;\n",
       "    }\n",
       "</style>\n",
       "<table border=\"1\" class=\"dataframe\">\n",
       "  <thead>\n",
       "    <tr style=\"text-align: right;\">\n",
       "      <th></th>\n",
       "      <th>Code Postal</th>\n",
       "      <th>Commune</th>\n",
       "      <th>Département</th>\n",
       "      <th>Région</th>\n",
       "      <th>Statut</th>\n",
       "      <th>Altitude Moyenne</th>\n",
       "      <th>Superficie</th>\n",
       "      <th>Population</th>\n",
       "      <th>geo_point_2d</th>\n",
       "      <th>geo_shape</th>\n",
       "      <th>latitude</th>\n",
       "      <th>longitude</th>\n",
       "      <th>CP Ville</th>\n",
       "    </tr>\n",
       "    <tr>\n",
       "      <th>Code INSEE</th>\n",
       "      <th></th>\n",
       "      <th></th>\n",
       "      <th></th>\n",
       "      <th></th>\n",
       "      <th></th>\n",
       "      <th></th>\n",
       "      <th></th>\n",
       "      <th></th>\n",
       "      <th></th>\n",
       "      <th></th>\n",
       "      <th></th>\n",
       "      <th></th>\n",
       "      <th></th>\n",
       "    </tr>\n",
       "  </thead>\n",
       "  <tbody>\n",
       "    <tr>\n",
       "      <th>27701</th>\n",
       "      <td>27100</td>\n",
       "      <td>VAL-DE-REUIL</td>\n",
       "      <td>EURE</td>\n",
       "      <td>HAUTE-NORMANDIE</td>\n",
       "      <td>Chef-lieu canton</td>\n",
       "      <td>23.0</td>\n",
       "      <td>2593.0</td>\n",
       "      <td>13.5</td>\n",
       "      <td>49.261335704, 1.21147195365</td>\n",
       "      <td>{'type': 'MultiPolygon', 'coordinates': [[[[1....</td>\n",
       "      <td>49.261336</td>\n",
       "      <td>1.211472</td>\n",
       "      <td>27100 VAL-DE-REUIL</td>\n",
       "    </tr>\n",
       "  </tbody>\n",
       "</table>\n",
       "</div>"
      ],
      "text/plain": [
       "           Code Postal       Commune Département           Région  \\\n",
       "Code INSEE                                                          \n",
       "27701            27100  VAL-DE-REUIL        EURE  HAUTE-NORMANDIE   \n",
       "\n",
       "                      Statut  Altitude Moyenne  Superficie  Population  \\\n",
       "Code INSEE                                                               \n",
       "27701       Chef-lieu canton              23.0      2593.0        13.5   \n",
       "\n",
       "                           geo_point_2d  \\\n",
       "Code INSEE                                \n",
       "27701       49.261335704, 1.21147195365   \n",
       "\n",
       "                                                    geo_shape   latitude  \\\n",
       "Code INSEE                                                                 \n",
       "27701       {'type': 'MultiPolygon', 'coordinates': [[[[1....  49.261336   \n",
       "\n",
       "            longitude            CP Ville  \n",
       "Code INSEE                                 \n",
       "27701        1.211472  27100 VAL-DE-REUIL  "
      ]
     },
     "execution_count": 19,
     "metadata": {},
     "output_type": "execute_result"
    }
   ],
   "source": [
    "geo.loc[geo['geo_shape'].apply(lambda x: len(x[\"coordinates\"]))==max2_nb_polyg]"
   ]
  },
  {
   "cell_type": "markdown",
   "id": "a8ca60ae",
   "metadata": {},
   "source": [
    "**Ville la plus complexe géométriquement : critère sur le nombre de sommets des polygones**  \n",
    "Les coordonnées sont contenues dans le ddictionnaire en tant que \"liste de liste de listes\".  \n",
    "On ne peut pas systématiser de calcul de len(coordinates) sur le deuxième polygone car toutes les entrées n'ont pas forcément de deuxième polygone et quand ce n'est pas le cas, la fonction len retourne une erreur.  \n",
    "Ainsi, si l'on veut calculer la liste de liste de listes contenant le plus d'éléments, on est obligés de faire des boucles car len() d'une liste de listes de listes ne renvoie que la taille de la liste la plus extérieure (coir ci-dessous). Or, faire des boucles avec des Séries semble complexe.  \n",
    "Du fait de ces difficultés, je me contente de ne regarder ici que le nombre de sommets du premier polygone"
   ]
  },
  {
   "cell_type": "code",
   "execution_count": 20,
   "id": "44eef86e",
   "metadata": {},
   "outputs": [
    {
     "name": "stdout",
     "output_type": "stream",
     "text": [
      "2\n",
      "3\n"
     ]
    }
   ],
   "source": [
    "a=[[1,2,3],[1,2,3]]\n",
    "print(len(a))\n",
    "print(len(a[0]))"
   ]
  },
  {
   "cell_type": "markdown",
   "id": "781ca7c6",
   "metadata": {},
   "source": [
    "Décompte du nombre de ville en fonction du nombre de coordonnées du 1er polygone :"
   ]
  },
  {
   "cell_type": "code",
   "execution_count": 25,
   "id": "dcb16065",
   "metadata": {
    "scrolled": true
   },
   "outputs": [
    {
     "data": {
      "text/plain": [
       "11    3396\n",
       "12    3336\n",
       "10    3186\n",
       "13    3023\n",
       "9     2822\n",
       "14    2679\n",
       "15    2424\n",
       "8     2174\n",
       "16    2056\n",
       "17    1747\n",
       "18    1503\n",
       "7     1326\n",
       "19    1216\n",
       "20     971\n",
       "21     793\n",
       "Name: geo_shape, dtype: int64"
      ]
     },
     "execution_count": 25,
     "metadata": {},
     "output_type": "execute_result"
    }
   ],
   "source": [
    "geo['geo_shape'].apply(lambda x: len(x[\"coordinates\"][0])).value_counts().sort_values(ascending=False).head(15)"
   ]
  },
  {
   "cell_type": "markdown",
   "id": "66fad86f",
   "metadata": {},
   "source": [
    "Ville ayant le plus de sommets sur son premier polygone"
   ]
  },
  {
   "cell_type": "code",
   "execution_count": 26,
   "id": "6ae77cce",
   "metadata": {
    "scrolled": true
   },
   "outputs": [
    {
     "name": "stdout",
     "output_type": "stream",
     "text": [
      "97370 MARIPASOULA, Nb de sommets du polygone 1 : 486\n"
     ]
    }
   ],
   "source": [
    "id_ville_max__nb_coord_P1=geo['geo_shape'].apply(lambda x: len(x[\"coordinates\"][0])).idxmax()\n",
    "max_nb_coord_P1=geo['geo_shape'].apply(lambda x: len(x[\"coordinates\"][0])).max()\n",
    "print(f\"{geo.loc[id_ville_max__nb_coord_P1,'CP Ville']}, Nb de sommets du polygone 1 : {max_nb_coord_P1}\")"
   ]
  },
  {
   "cell_type": "markdown",
   "id": "f2f1eacb",
   "metadata": {},
   "source": [
    "2ème ville ayant le plus de sommets sur son second polygone (on doit calculer la liste triée car on ne peut plus utiliser la fonction max directement)"
   ]
  },
  {
   "cell_type": "code",
   "execution_count": 27,
   "id": "7b7989d4",
   "metadata": {},
   "outputs": [
    {
     "data": {
      "text/plain": [
       "Code INSEE\n",
       "97353    486\n",
       "97301    392\n",
       "97306    334\n",
       "97356    325\n",
       "97311    273\n",
       "        ... \n",
       "68315      1\n",
       "06162      1\n",
       "57672      1\n",
       "67043      1\n",
       "50353      1\n",
       "Name: geo_shape, Length: 36742, dtype: int64"
      ]
     },
     "execution_count": 27,
     "metadata": {},
     "output_type": "execute_result"
    }
   ],
   "source": [
    "serie_triee_nb_coord_P1=geo['geo_shape'].apply(lambda x: len(x[\"coordinates\"][0])).sort_values(ascending=False)\n",
    "serie_triee_nb_coord_P1"
   ]
  },
  {
   "cell_type": "code",
   "execution_count": 29,
   "id": "fbe73498",
   "metadata": {
    "scrolled": true
   },
   "outputs": [
    {
     "name": "stdout",
     "output_type": "stream",
     "text": [
      "97390 REGINA, Nb de sommets du polygone 1 : 392\n"
     ]
    }
   ],
   "source": [
    "id_ville_2eme_nb_coord_P1=serie_triee_nb_coord_P1.index[1]\n",
    "print(f\"{geo.loc[id_ville_2eme_nb_coord_P1,'CP Ville']}, Nb de sommets du polygone 1 : {serie_triee_nb_coord_P1.iloc[1]}\")"
   ]
  },
  {
   "cell_type": "markdown",
   "id": "63e1b524",
   "metadata": {},
   "source": [
    "**Villes de type \"Polygon\" mais dont la longueur des listes accédées avec la clé \"coordinates\" vaut 2**"
   ]
  },
  {
   "cell_type": "code",
   "execution_count": 38,
   "id": "722ffd15",
   "metadata": {
    "scrolled": false
   },
   "outputs": [
    {
     "data": {
      "text/html": [
       "<div>\n",
       "<style scoped>\n",
       "    .dataframe tbody tr th:only-of-type {\n",
       "        vertical-align: middle;\n",
       "    }\n",
       "\n",
       "    .dataframe tbody tr th {\n",
       "        vertical-align: top;\n",
       "    }\n",
       "\n",
       "    .dataframe thead th {\n",
       "        text-align: right;\n",
       "    }\n",
       "</style>\n",
       "<table border=\"1\" class=\"dataframe\">\n",
       "  <thead>\n",
       "    <tr style=\"text-align: right;\">\n",
       "      <th></th>\n",
       "      <th>Code Postal</th>\n",
       "      <th>Commune</th>\n",
       "      <th>Département</th>\n",
       "      <th>Région</th>\n",
       "      <th>Statut</th>\n",
       "      <th>Altitude Moyenne</th>\n",
       "      <th>Superficie</th>\n",
       "      <th>Population</th>\n",
       "      <th>geo_point_2d</th>\n",
       "      <th>geo_shape</th>\n",
       "      <th>latitude</th>\n",
       "      <th>longitude</th>\n",
       "      <th>CP Ville</th>\n",
       "    </tr>\n",
       "    <tr>\n",
       "      <th>Code INSEE</th>\n",
       "      <th></th>\n",
       "      <th></th>\n",
       "      <th></th>\n",
       "      <th></th>\n",
       "      <th></th>\n",
       "      <th></th>\n",
       "      <th></th>\n",
       "      <th></th>\n",
       "      <th></th>\n",
       "      <th></th>\n",
       "      <th></th>\n",
       "      <th></th>\n",
       "      <th></th>\n",
       "    </tr>\n",
       "  </thead>\n",
       "  <tbody>\n",
       "    <tr>\n",
       "      <th>2A272</th>\n",
       "      <td>20100</td>\n",
       "      <td>SARTENE</td>\n",
       "      <td>CORSE-DU-SUD</td>\n",
       "      <td>CORSE</td>\n",
       "      <td>Sous-préfecture</td>\n",
       "      <td>190.0</td>\n",
       "      <td>20182.0</td>\n",
       "      <td>3.1</td>\n",
       "      <td>41.5718443328, 8.93538107497</td>\n",
       "      <td>{'type': 'Polygon', 'coordinates': [[[8.940487...</td>\n",
       "      <td>41.571844</td>\n",
       "      <td>8.935381</td>\n",
       "      <td>20100 SARTENE</td>\n",
       "    </tr>\n",
       "    <tr>\n",
       "      <th>48080</th>\n",
       "      <td>48300</td>\n",
       "      <td>LANGOGNE</td>\n",
       "      <td>LOZERE</td>\n",
       "      <td>LANGUEDOC-ROUSSILLON</td>\n",
       "      <td>Chef-lieu canton</td>\n",
       "      <td>973.0</td>\n",
       "      <td>3124.0</td>\n",
       "      <td>3.1</td>\n",
       "      <td>44.7237405653, 3.83363110341</td>\n",
       "      <td>{'type': 'Polygon', 'coordinates': [[[3.850531...</td>\n",
       "      <td>44.723741</td>\n",
       "      <td>3.833631</td>\n",
       "      <td>48300 LANGOGNE</td>\n",
       "    </tr>\n",
       "    <tr>\n",
       "      <th>09042</th>\n",
       "      <td>09240</td>\n",
       "      <td>LA BASTIDE-DE-SEROU</td>\n",
       "      <td>ARIEGE</td>\n",
       "      <td>MIDI-PYRENEES</td>\n",
       "      <td>Chef-lieu canton</td>\n",
       "      <td>479.0</td>\n",
       "      <td>4138.0</td>\n",
       "      <td>1.0</td>\n",
       "      <td>43.0242795037, 1.42677885373</td>\n",
       "      <td>{'type': 'Polygon', 'coordinates': [[[1.423960...</td>\n",
       "      <td>43.024280</td>\n",
       "      <td>1.426779</td>\n",
       "      <td>09240 LA BASTIDE-DE-SEROU</td>\n",
       "    </tr>\n",
       "    <tr>\n",
       "      <th>71028</th>\n",
       "      <td>71270</td>\n",
       "      <td>BEAUVERNOIS</td>\n",
       "      <td>SAONE-ET-LOIRE</td>\n",
       "      <td>BOURGOGNE</td>\n",
       "      <td>Commune simple</td>\n",
       "      <td>204.0</td>\n",
       "      <td>882.0</td>\n",
       "      <td>0.1</td>\n",
       "      <td>46.8413806403, 5.4403170068</td>\n",
       "      <td>{'type': 'Polygon', 'coordinates': [[[5.416652...</td>\n",
       "      <td>46.841381</td>\n",
       "      <td>5.440317</td>\n",
       "      <td>71270 BEAUVERNOIS</td>\n",
       "    </tr>\n",
       "    <tr>\n",
       "      <th>22209</th>\n",
       "      <td>22650</td>\n",
       "      <td>PLOUBALAY</td>\n",
       "      <td>COTES-D'ARMOR</td>\n",
       "      <td>BRETAGNE</td>\n",
       "      <td>Chef-lieu canton</td>\n",
       "      <td>36.0</td>\n",
       "      <td>3600.0</td>\n",
       "      <td>2.7</td>\n",
       "      <td>48.5596688192, -2.12838362694</td>\n",
       "      <td>{'type': 'Polygon', 'coordinates': [[[-2.11237...</td>\n",
       "      <td>48.559669</td>\n",
       "      <td>-2.128384</td>\n",
       "      <td>22650 PLOUBALAY</td>\n",
       "    </tr>\n",
       "    <tr>\n",
       "      <th>02232</th>\n",
       "      <td>02600</td>\n",
       "      <td>COYOLLES</td>\n",
       "      <td>AISNE</td>\n",
       "      <td>PICARDIE</td>\n",
       "      <td>Commune simple</td>\n",
       "      <td>126.0</td>\n",
       "      <td>2489.0</td>\n",
       "      <td>0.4</td>\n",
       "      <td>49.2133089693, 3.01306173751</td>\n",
       "      <td>{'type': 'Polygon', 'coordinates': [[[3.037897...</td>\n",
       "      <td>49.213309</td>\n",
       "      <td>3.013062</td>\n",
       "      <td>02600 COYOLLES</td>\n",
       "    </tr>\n",
       "    <tr>\n",
       "      <th>2B049</th>\n",
       "      <td>20214</td>\n",
       "      <td>CALENZANA</td>\n",
       "      <td>HAUTE-CORSE</td>\n",
       "      <td>CORSE</td>\n",
       "      <td>Chef-lieu canton</td>\n",
       "      <td>596.0</td>\n",
       "      <td>18465.0</td>\n",
       "      <td>2.1</td>\n",
       "      <td>42.4784267166, 8.80369225001</td>\n",
       "      <td>{'type': 'Polygon', 'coordinates': [[[8.911220...</td>\n",
       "      <td>42.478427</td>\n",
       "      <td>8.803692</td>\n",
       "      <td>20214 CALENZANA</td>\n",
       "    </tr>\n",
       "    <tr>\n",
       "      <th>05052</th>\n",
       "      <td>05600</td>\n",
       "      <td>EYGLIERS</td>\n",
       "      <td>HAUTES-ALPES</td>\n",
       "      <td>PROVENCE-ALPES-COTE D'AZUR</td>\n",
       "      <td>Commune simple</td>\n",
       "      <td>1615.0</td>\n",
       "      <td>2987.0</td>\n",
       "      <td>0.7</td>\n",
       "      <td>44.6925244966, 6.66688741371</td>\n",
       "      <td>{'type': 'Polygon', 'coordinates': [[[6.719912...</td>\n",
       "      <td>44.692524</td>\n",
       "      <td>6.666887</td>\n",
       "      <td>05600 EYGLIERS</td>\n",
       "    </tr>\n",
       "    <tr>\n",
       "      <th>67486</th>\n",
       "      <td>67920</td>\n",
       "      <td>SUNDHOUSE</td>\n",
       "      <td>BAS-RHIN</td>\n",
       "      <td>ALSACE</td>\n",
       "      <td>Commune simple</td>\n",
       "      <td>166.0</td>\n",
       "      <td>1590.0</td>\n",
       "      <td>1.5</td>\n",
       "      <td>48.2550723499, 7.63031906582</td>\n",
       "      <td>{'type': 'Polygon', 'coordinates': [[[7.594939...</td>\n",
       "      <td>48.255072</td>\n",
       "      <td>7.630319</td>\n",
       "      <td>67920 SUNDHOUSE</td>\n",
       "    </tr>\n",
       "    <tr>\n",
       "      <th>68078</th>\n",
       "      <td>68420</td>\n",
       "      <td>EGUISHEIM</td>\n",
       "      <td>HAUT-RHIN</td>\n",
       "      <td>ALSACE</td>\n",
       "      <td>Commune simple</td>\n",
       "      <td>320.0</td>\n",
       "      <td>1400.0</td>\n",
       "      <td>1.6</td>\n",
       "      <td>48.0371183049, 7.30052876111</td>\n",
       "      <td>{'type': 'Polygon', 'coordinates': [[[7.281156...</td>\n",
       "      <td>48.037118</td>\n",
       "      <td>7.300529</td>\n",
       "      <td>68420 EGUISHEIM</td>\n",
       "    </tr>\n",
       "  </tbody>\n",
       "</table>\n",
       "</div>"
      ],
      "text/plain": [
       "           Code Postal              Commune     Département  \\\n",
       "Code INSEE                                                    \n",
       "2A272            20100              SARTENE    CORSE-DU-SUD   \n",
       "48080            48300             LANGOGNE          LOZERE   \n",
       "09042            09240  LA BASTIDE-DE-SEROU          ARIEGE   \n",
       "71028            71270          BEAUVERNOIS  SAONE-ET-LOIRE   \n",
       "22209            22650            PLOUBALAY   COTES-D'ARMOR   \n",
       "02232            02600             COYOLLES           AISNE   \n",
       "2B049            20214            CALENZANA     HAUTE-CORSE   \n",
       "05052            05600             EYGLIERS    HAUTES-ALPES   \n",
       "67486            67920            SUNDHOUSE        BAS-RHIN   \n",
       "68078            68420            EGUISHEIM       HAUT-RHIN   \n",
       "\n",
       "                                Région            Statut  Altitude Moyenne  \\\n",
       "Code INSEE                                                                   \n",
       "2A272                            CORSE   Sous-préfecture             190.0   \n",
       "48080             LANGUEDOC-ROUSSILLON  Chef-lieu canton             973.0   \n",
       "09042                    MIDI-PYRENEES  Chef-lieu canton             479.0   \n",
       "71028                        BOURGOGNE    Commune simple             204.0   \n",
       "22209                         BRETAGNE  Chef-lieu canton              36.0   \n",
       "02232                         PICARDIE    Commune simple             126.0   \n",
       "2B049                            CORSE  Chef-lieu canton             596.0   \n",
       "05052       PROVENCE-ALPES-COTE D'AZUR    Commune simple            1615.0   \n",
       "67486                           ALSACE    Commune simple             166.0   \n",
       "68078                           ALSACE    Commune simple             320.0   \n",
       "\n",
       "            Superficie  Population                   geo_point_2d  \\\n",
       "Code INSEE                                                          \n",
       "2A272          20182.0         3.1   41.5718443328, 8.93538107497   \n",
       "48080           3124.0         3.1   44.7237405653, 3.83363110341   \n",
       "09042           4138.0         1.0   43.0242795037, 1.42677885373   \n",
       "71028            882.0         0.1    46.8413806403, 5.4403170068   \n",
       "22209           3600.0         2.7  48.5596688192, -2.12838362694   \n",
       "02232           2489.0         0.4   49.2133089693, 3.01306173751   \n",
       "2B049          18465.0         2.1   42.4784267166, 8.80369225001   \n",
       "05052           2987.0         0.7   44.6925244966, 6.66688741371   \n",
       "67486           1590.0         1.5   48.2550723499, 7.63031906582   \n",
       "68078           1400.0         1.6   48.0371183049, 7.30052876111   \n",
       "\n",
       "                                                    geo_shape   latitude  \\\n",
       "Code INSEE                                                                 \n",
       "2A272       {'type': 'Polygon', 'coordinates': [[[8.940487...  41.571844   \n",
       "48080       {'type': 'Polygon', 'coordinates': [[[3.850531...  44.723741   \n",
       "09042       {'type': 'Polygon', 'coordinates': [[[1.423960...  43.024280   \n",
       "71028       {'type': 'Polygon', 'coordinates': [[[5.416652...  46.841381   \n",
       "22209       {'type': 'Polygon', 'coordinates': [[[-2.11237...  48.559669   \n",
       "02232       {'type': 'Polygon', 'coordinates': [[[3.037897...  49.213309   \n",
       "2B049       {'type': 'Polygon', 'coordinates': [[[8.911220...  42.478427   \n",
       "05052       {'type': 'Polygon', 'coordinates': [[[6.719912...  44.692524   \n",
       "67486       {'type': 'Polygon', 'coordinates': [[[7.594939...  48.255072   \n",
       "68078       {'type': 'Polygon', 'coordinates': [[[7.281156...  48.037118   \n",
       "\n",
       "            longitude                   CP Ville  \n",
       "Code INSEE                                        \n",
       "2A272        8.935381              20100 SARTENE  \n",
       "48080        3.833631             48300 LANGOGNE  \n",
       "09042        1.426779  09240 LA BASTIDE-DE-SEROU  \n",
       "71028        5.440317          71270 BEAUVERNOIS  \n",
       "22209       -2.128384            22650 PLOUBALAY  \n",
       "02232        3.013062             02600 COYOLLES  \n",
       "2B049        8.803692            20214 CALENZANA  \n",
       "05052        6.666887             05600 EYGLIERS  \n",
       "67486        7.630319            67920 SUNDHOUSE  \n",
       "68078        7.300529            68420 EGUISHEIM  "
      ]
     },
     "execution_count": 38,
     "metadata": {},
     "output_type": "execute_result"
    }
   ],
   "source": [
    "mask_polyg_simple=(geo['geo_shape'].apply(lambda x: x[\"type\"])==\"Polygon\")\n",
    "mask_coord_2_polyg=(geo['geo_shape'].apply(lambda x: len(x[\"coordinates\"]))==2)\n",
    "villes_polyg_2_set_coord=geo.loc[mask_polyg_simple & mask_coord_2_polyg]\n",
    "villes_polyg_2_set_coord"
   ]
  },
  {
   "cell_type": "markdown",
   "id": "bd5b5d39",
   "metadata": {},
   "source": [
    "**Vérification si les polygones N°2 sont bien contenus dans les polygones N°1 pour les 10 villes ci-dessus**"
   ]
  },
  {
   "cell_type": "markdown",
   "id": "72d29c4a",
   "metadata": {},
   "source": [
    "Avec shapely"
   ]
  },
  {
   "cell_type": "code",
   "execution_count": 79,
   "id": "d0beec21",
   "metadata": {},
   "outputs": [
    {
     "data": {
      "image/svg+xml": [
       "<svg xmlns=\"http://www.w3.org/2000/svg\" xmlns:xlink=\"http://www.w3.org/1999/xlink\" width=\"100.0\" height=\"100.0\" viewBox=\"7.265129862122824 48.026422816896954 0.020711008101480743 0.018296274313478023\" preserveAspectRatio=\"xMinYMin meet\"><g transform=\"matrix(1,0,0,-1,0,96.07114190810739)\"><path fill-rule=\"evenodd\" fill=\"#66cc99\" stroke=\"#555555\" stroke-width=\"0.00041422016202961485\" opacity=\"0.6\" d=\"M 7.274952793134658,48.027189891271085 L 7.276532514741039,48.02761911200156 L 7.279682252704658,48.02968547685866 L 7.280874318253378,48.030137761045864 L 7.281196047454583,48.03079295066647 L 7.282335712442734,48.031427372142495 L 7.283910527591393,48.031793592833836 L 7.284906518630974,48.03247828505309 L 7.283499596968993,48.03385432418294 L 7.284959009807799,48.0342878212809 L 7.284449564362754,48.03529771901852 L 7.285073795850176,48.03703235114776 L 7.284269908316309,48.03706163472611 L 7.283651478556743,48.03821968962256 L 7.284792750319014,48.03970117449406 L 7.284317961706248,48.0424671692238 L 7.284697604691184,48.04366997860324 L 7.284500246582401,48.04372222740251 L 7.281159011489016,48.0439520168363 L 7.280773112675701,48.043335213293545 L 7.279744553102315,48.04324646853341 L 7.277676288351946,48.041933835091115 L 7.277457859287264,48.04172548784372 L 7.276876521080392,48.03985408667509 L 7.276055154932443,48.039667657731115 L 7.272447842546984,48.039095794430246 L 7.269058768225027,48.040228192176784 L 7.265896936496953,48.040180682869945 L 7.267104227395308,48.03882113654052 L 7.266410673411213,48.03705289805546 L 7.269858414672631,48.03731531004953 L 7.270853688414052,48.03582823197182 L 7.272688760450188,48.03525690773329 L 7.274558441543868,48.03594599038886 L 7.275001230812288,48.035605461820005 L 7.274461556169483,48.0349131192429 L 7.275816751494212,48.03422400045111 L 7.276091086277281,48.03362823888019 L 7.274799902506062,48.02845715019949 L 7.274952793134658,48.027189891271085 z\" /></g></svg>"
      ],
      "text/plain": [
       "<shapely.geometry.polygon.Polygon at 0x7fa7d35c8b50>"
      ]
     },
     "execution_count": 79,
     "metadata": {},
     "output_type": "execute_result"
    }
   ],
   "source": [
    "import shapely\n",
    "from shapely.geometry import Polygon\n",
    "\n",
    "#Listes contenant pour chaque ville une liste contenant elle même une liste [x,y] pour chaque sommet du polygone\n",
    "coord_P1 = villes_polyg_2_set_coord['geo_shape'].apply(lambda x: x['coordinates'][0])\n",
    "coord_P2=villes_polyg_2_set_coord['geo_shape'].apply(lambda x: x['coordinates'][1])"
   ]
  },
  {
   "cell_type": "code",
   "execution_count": 87,
   "id": "96b3db84",
   "metadata": {},
   "outputs": [
    {
     "name": "stdout",
     "output_type": "stream",
     "text": [
      "P2 est une enclave de P1 :\n"
     ]
    },
    {
     "data": {
      "text/plain": [
       "{'2A272': True,\n",
       " '48080': True,\n",
       " '09042': True,\n",
       " '71028': True,\n",
       " '22209': True,\n",
       " '02232': True,\n",
       " '2B049': True,\n",
       " '05052': True,\n",
       " '67486': True,\n",
       " '68078': True}"
      ]
     },
     "execution_count": 87,
     "metadata": {},
     "output_type": "execute_result"
    }
   ],
   "source": [
    "res=dict()\n",
    "for i in range(coord_P1.size):\n",
    "    P1 = Polygon(coord_P1[i])\n",
    "    P2 = Polygon(coord_P2[i])\n",
    "    res[villes_polyg_2_set_coord.index[i]]=P1.contains(P2)\n",
    "\n",
    "print(\"P2 est une enclave de P1 :\")\n",
    "res"
   ]
  },
  {
   "cell_type": "markdown",
   "id": "3434fc8e",
   "metadata": {},
   "source": [
    "En dessinant avec Matplotlib"
   ]
  },
  {
   "cell_type": "code",
   "execution_count": 64,
   "id": "6d3a4054",
   "metadata": {
    "scrolled": false
   },
   "outputs": [
    {
     "data": {
      "image/png": "[encoded data removed]",
      "text/plain": [
       "<Figure size 432x288 with 1 Axes>"
      ]
     },
     "metadata": {
      "needs_background": "light"
     },
     "output_type": "display_data"
    },
    {
     "data": {
      "image/png": "[encoded data removed]",
      "text/plain": [
       "<Figure size 432x288 with 1 Axes>"
      ]
     },
     "metadata": {
      "needs_background": "light"
     },
     "output_type": "display_data"
    },
    {
     "data": {
      "image/png": "[encoded data removed]",
      "text/plain": [
       "<Figure size 432x288 with 1 Axes>"
      ]
     },
     "metadata": {
      "needs_background": "light"
     },
     "output_type": "display_data"
    },
    {
     "data": {
      "image/png": "[encoded data removed]",
      "text/plain": [
       "<Figure size 432x288 with 1 Axes>"
      ]
     },
     "metadata": {
      "needs_background": "light"
     },
     "output_type": "display_data"
    },
    {
     "data": {
      "image/png": "[encoded data removed]",
      "text/plain": [
       "<Figure size 432x288 with 1 Axes>"
      ]
     },
     "metadata": {
      "needs_background": "light"
     },
     "output_type": "display_data"
    },
    {
     "data": {
      "image/png": "[encoded data removed]",
      "text/plain": [
       "<Figure size 432x288 with 1 Axes>"
      ]
     },
     "metadata": {
      "needs_background": "light"
     },
     "output_type": "display_data"
    },
    {
     "data": {
      "image/png": "[encoded data removed]",
      "text/plain": [
       "<Figure size 432x288 with 1 Axes>"
      ]
     },
     "metadata": {
      "needs_background": "light"
     },
     "output_type": "display_data"
    },
    {
     "data": {
      "image/png": "[encoded data removed]",
      "text/plain": [
       "<Figure size 432x288 with 1 Axes>"
      ]
     },
     "metadata": {
      "needs_background": "light"
     },
     "output_type": "display_data"
    },
    {
     "data": {
      "image/png": "[encoded data removed]",
      "text/plain": [
       "<Figure size 432x288 with 1 Axes>"
      ]
     },
     "metadata": {
      "needs_background": "light"
     },
     "output_type": "display_data"
    },
    {
     "data": {
      "image/png": "[encoded data removed]",
      "text/plain": [
       "<Figure size 432x288 with 1 Axes>"
      ]
     },
     "metadata": {
      "needs_background": "light"
     },
     "output_type": "display_data"
    }
   ],
   "source": [
    "import matplotlib.pyplot as plt\n",
    "\n",
    "# liste contenant pour chaque ville une liste contenant l'ensemble des coordonnées x ou y des sommets du polygone\n",
    "# pour la fonction plot, il est nécessaire de séparer les absices dans une liste et les ordonnées dans une autre\n",
    "coord_P1_x=[[x[0] for x in y] for y in coord_P1]\n",
    "coord_P1_y=[[x[1] for x in y] for y in coord_P1]\n",
    "\n",
    "coord_P2_x=[[x[0] for x in y] for y in coord_P2]\n",
    "coord_P2_y=[[x[1] for x in y] for y in coord_P2]\n",
    "\n",
    "for i in range(len(coord_P1_x)):\n",
    "    plt.figure()\n",
    "    plt.plot(coord_P1_x[i],coord_P1_y[i])\n",
    "    plt.plot(coord_P2_x[i],coord_P2_y[i])"
   ]
  }
 ],
 "metadata": {
  "kernelspec": {
   "display_name": "Python 3",
   "language": "python",
   "name": "python3"
  },
  "language_info": {
   "codemirror_mode": {
    "name": "ipython",
    "version": 3
   },
   "file_extension": ".py",
   "mimetype": "text/x-python",
   "name": "python",
   "nbconvert_exporter": "python",
   "pygments_lexer": "ipython3",
   "version": "3.8.8"
  }
 },
 "nbformat": 4,
 "nbformat_minor": 5
}
